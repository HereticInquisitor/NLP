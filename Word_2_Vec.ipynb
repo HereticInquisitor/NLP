{
 "cells": [
  {
   "cell_type": "code",
   "execution_count": 45,
   "metadata": {},
   "outputs": [],
   "source": [
    "import nltk\n",
    "paragraph=  \"\"\"I have three visions for India. In 3000 years of our history, people from all over \n",
    "               the world have come and invaded us, captured our lands, conquered our minds. \n",
    "               From Alexander onwards, the Greeks, the Turks, the Moguls, the Portuguese, the British,\n",
    "               the French, the Dutch, all of them came and looted us, took over what was ours. \n",
    "               Yet we have not done this to any other nation. We have not conquered anyone. \n",
    "               We have not grabbed their land, their culture, \n",
    "               their history and tried to enforce our way of life on them. \n",
    "               Why? Because we respect the freedom of others.That is why my \n",
    "               first vision is that of freedom. I believe that India got its first vision of \n",
    "               this in 1857, when we started the War of Independence. It is this freedom that\n",
    "               we must protect and nurture and build on. If we are not free, no one will respect us.\n",
    "               My second vision for India’s development. For fifty years we have been a developing nation.\n",
    "               It is time we see ourselves as a developed nation. We are among the top 5 nations of the world\n",
    "               in terms of GDP. We have a 10 percent growth rate in most areas. Our poverty levels are falling.\n",
    "               Our achievements are being globally recognised today. Yet we lack the self-confidence to\n",
    "               see ourselves as a developed nation, self-reliant and self-assured. Isn’t this incorrect?\n",
    "               I have a third vision. India must stand up to the world. Because I believe that unless India \n",
    "               stands up to the world, no one will respect us. Only strength respects strength. We must be \n",
    "               strong not only as a military power but also as an economic power. Both must go hand-in-hand. \n",
    "               My good fortune was to have worked with three great minds. Dr. Vikram Sarabhai of the Dept. of \n",
    "               space, Professor Satish Dhawan, who succeeded him and Dr. Brahm Prakash, father of nuclear material.\n",
    "               I was lucky to have worked with all three of them closely and consider this the great opportunity of my life. \n",
    "               I see four milestones in my career\"\"\""
   ]
  },
  {
   "cell_type": "code",
   "execution_count": 51,
   "metadata": {},
   "outputs": [],
   "source": [
    "import nltk\n",
    "paragraph=  \"\"\"Avul Pakir Jainulabdeen Abdul Kalam was born on 15 October 1931, to a Tamil Muslim family in the pilgrimage centre of Rameswaram on Pamban Island, then in the Madras Presidency and now in the State of Tamil Nadu.\n",
    "                His father Jainulabdeen Marakayar was a boat owner and imam of a local mosque;\n",
    "                his mother Ashiamma was a housewife.\n",
    "                His father owned a ferry that took Hindu pilgrims back and forth between Rameswaram and the now uninhabited Dhanushkodi.\n",
    "                Kalam was the youngest of four brothers and one sister in his family.\n",
    "                His ancestors had been wealthy Marakayar traders and landowners, with numerous properties and large tracts of land.\n",
    "                Marakayar are a Muslim ethnic group found in coastal Tamil Nadu and Sri Lanka who claim descent from Arab traders and local women.\n",
    "                The family business had involved trading groceries between the mainland and the island and to and from Sri Lanka, as well as ferrying pilgrims between the mainland and Pamban.\n",
    "                With the opening of the Pamban Bridge to the mainland in 1914, however, the businesses failed and the family fortune and properties were lost by the 1920s, apart from the ancestral home.\n",
    "                The family was poverty-stricken by the time Kalam was born.\n",
    "                As a young boy he had to sell newspapers to add to the family's meager income.\n",
    "                In his school years, Kalam had average grades but was described as a bright and hardworking student who had a strong desire to learn.\n",
    "                He spent hours on his studies, especially Mathematics.\n",
    "                After completing his education at the Schwartz Higher Secondary School, Ramanathapuram, Kalam went on to attend Saint Joseph's College, Tiruchirappalli, then affiliated with the University of Madras, from where he graduated in physics in 1954.\n",
    "                He moved to Madras in 1955 to study aerospace engineering in Madras Institute of Technology.\n",
    "                While Kalam was working on a senior class project, the Dean was dissatisfied with his lack of progress and threatened to revoke his scholarship unless the project was finished within the next three days.\n",
    "                Kalam met the deadline, impressing the Dean, who later said to him, \"I was putting you under stress and asking you to meet a difficult deadline.\"\n",
    "                He narrowly missed achieving his dream of becoming a fighter pilot, as he placed ninth in qualifiers, and only eight positions were available in the IAF.\"\"\"\n",
    "                "
   ]
  },
  {
   "cell_type": "code",
   "execution_count": 52,
   "metadata": {},
   "outputs": [],
   "source": [
    "import re\n",
    "from nltk.corpus import stopwords\n",
    "from nltk.stem import PorterStemmer\n",
    "from nltk.stem import WordNetLemmatizer\n",
    "from gensim.models import Word2Vec\n",
    "\n",
    "text = re.sub(r'\\[[0-9]*\\]',' ',paragraph)\n",
    "text = re.sub(r'\\s+',' ',text)\n",
    "text = text.lower()\n",
    "text = re.sub(r'\\d',' ',text)\n",
    "text = re.sub(r'\\s+',' ',text)\n",
    "\n",
    "# text=re.sub('[^a-zA-Z]',' ' , paragraph)\n",
    "# text = text.lower()\n",
    "\n",
    "\n",
    "# Preparing the dataset\n",
    "sentences = nltk.sent_tokenize(text)\n",
    "\n",
    "sentences = [nltk.word_tokenize(sentence) for sentence in sentences]\n",
    "\n",
    "for i in range(len(sentences)):\n",
    "    sentences[i] = [word for word in sentences[i] if word not in stopwords.words('english')]\n",
    "    \n"
   ]
  },
  {
   "cell_type": "code",
   "execution_count": 53,
   "metadata": {},
   "outputs": [
    {
     "name": "stdout",
     "output_type": "stream",
     "text": [
      "[ 8.11708346e-03 -4.44854936e-03 -1.05254282e-03  1.02128636e-03\n",
      " -2.06724348e-04  1.09122356e-03  6.15315326e-03  3.80764322e-05\n",
      " -3.28057120e-03 -1.52697251e-03  5.86854387e-03  1.46171218e-03\n",
      " -7.37912138e-04  9.36570298e-03 -4.92135854e-03 -8.50631215e-04\n",
      "  9.16213728e-03  6.70489902e-03  1.50232553e-03 -8.96187034e-03\n",
      "  1.14992645e-03 -2.27634609e-03  9.35580302e-03  1.17014628e-03\n",
      "  1.46040379e-03  2.39906949e-03 -1.83240487e-03 -5.03437081e-03\n",
      "  2.10324026e-04 -2.04911781e-03  6.65829051e-03  8.95342138e-03\n",
      " -6.64793886e-04  2.94865784e-03 -6.14401512e-03  1.74391945e-03\n",
      " -6.91166986e-03 -8.69451277e-03 -5.93528524e-03 -8.97582993e-03\n",
      "  7.32357008e-03 -5.81718050e-03  8.25283956e-03 -7.24142697e-03\n",
      "  3.45041952e-03  9.65883397e-03 -7.81733636e-03 -9.97823477e-03\n",
      " -4.30280576e-03 -2.67300336e-03 -2.55138933e-04 -8.82158149e-03\n",
      " -8.59155320e-03  2.82084686e-03 -8.21359456e-03 -9.04189050e-03\n",
      " -2.33007409e-03 -8.64387769e-03 -7.07366830e-03 -8.36543832e-03\n",
      " -3.00072745e-04 -4.55959328e-03  6.64623966e-03  1.49931118e-03\n",
      " -3.37292044e-03  6.13575103e-03 -6.00944832e-03 -4.62985970e-03\n",
      " -7.24997697e-03 -4.27433569e-03 -1.81686692e-03  6.52432116e-03\n",
      " -2.76972516e-03  4.91310516e-03  6.97419606e-03 -7.45288143e-03\n",
      "  4.54758806e-03  6.14783214e-03 -2.99675786e-03  6.61558844e-03\n",
      "  6.10588025e-03 -6.41972665e-03 -6.79454021e-03  2.58853938e-03\n",
      " -1.62792765e-03 -6.04902627e-03  9.53535456e-03 -5.08656446e-03\n",
      " -6.48291036e-03 -1.21212564e-04 -2.68358598e-03  4.48217994e-04\n",
      " -3.52746970e-03 -4.04853723e-04 -6.88014319e-04  8.41458852e-04\n",
      "  8.22460651e-03 -5.77401742e-03 -1.64019340e-03  5.57971047e-03]\n",
      "[('next', 0.25311410427093506), ('home', 0.24900929629802704), ('graduated', 0.2362312227487564), (',', 0.21852317452430725), ('ferrying', 0.21412555873394012), ('owner', 0.20559042692184448), ('missed', 0.179754838347435), ('studies', 0.1787918210029602), ('well', 0.16211792826652527), ('ninth', 0.1573057472705841)]\n"
     ]
    }
   ],
   "source": [
    "model = Word2Vec(sentences,min_count=1)\n",
    "\n",
    "\n",
    "# words = model.build_vocab(sentences)\n",
    "words = model.wv.key_to_index\n",
    "\n",
    "\n",
    "vector = model.wv['tamil']\n",
    "\n",
    "print(vector)\n",
    "\n",
    "similar = model.wv.most_similar('deadline')\n",
    "print(similar)"
   ]
  },
  {
   "cell_type": "code",
   "execution_count": 49,
   "metadata": {},
   "outputs": [
    {
     "data": {
      "text/plain": [
       "[('groceries', 0.277966171503067),\n",
       " ('jainulabdeen', 0.24483142793178558),\n",
       " ('bright', 0.24379463493824005),\n",
       " ('bridge', 0.2129291296005249),\n",
       " ('claim', 0.20539326965808868),\n",
       " ('young', 0.20029428601264954),\n",
       " ('nadu', 0.1981349140405655),\n",
       " ('ashiamma', 0.1813904047012329),\n",
       " ('putting', 0.18119746446609497),\n",
       " ('study', 0.1700870841741562)]"
      ]
     },
     "execution_count": 49,
     "metadata": {},
     "output_type": "execute_result"
    }
   ],
   "source": [
    "[('groceries', 0.277966171503067), ('jainulabdeen', 0.24483142793178558), ('bright', 0.24379463493824005), ('bridge', 0.2129291296005249), ('claim', 0.20539326965808868), ('young', 0.20029428601264954), ('nadu', 0.1981349140405655), ('ashiamma', 0.1813904047012329), ('putting', 0.18119746446609497), ('study', 0.1700870841741562)]"
   ]
  }
 ],
 "metadata": {
  "kernelspec": {
   "display_name": "Python 3",
   "language": "python",
   "name": "python3"
  },
  "language_info": {
   "codemirror_mode": {
    "name": "ipython",
    "version": 3
   },
   "file_extension": ".py",
   "mimetype": "text/x-python",
   "name": "python",
   "nbconvert_exporter": "python",
   "pygments_lexer": "ipython3",
   "version": "3.10.10"
  },
  "orig_nbformat": 4
 },
 "nbformat": 4,
 "nbformat_minor": 2
}
